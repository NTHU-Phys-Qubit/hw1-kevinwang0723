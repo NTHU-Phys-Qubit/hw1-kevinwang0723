{
 "cells": [
  {
   "cell_type": "code",
   "execution_count": 1,
   "metadata": {},
   "outputs": [],
   "source": [
    "import numpy as np\n",
    "import matplotlib.pyplot as plt"
   ]
  },
  {
   "cell_type": "markdown",
   "metadata": {},
   "source": [
    "# 1D Random walk\n",
    "\n",
    "We will concider two kinds of 1D random talk.\n",
    "* $dx$ is uniformly distributed between $[-1/2, +1/2]$.\n",
    "* $dx=+1$ with probability 1/2 and $dx=-1$ with probability 1/2.\n",
    "\n",
    "For both kinds of the 1D random walk, you should do the following:\n",
    "* Plot a single trajectory.\n",
    "* Plot the histogram of the end point for an ensemble of trajectories."
   ]
  },
  {
   "cell_type": "code",
   "execution_count": null,
   "metadata": {},
   "outputs": [],
   "source": []
  }
 ],
 "metadata": {
  "kernelspec": {
   "display_name": "Python 3",
   "language": "python",
   "name": "python3"
  },
  "language_info": {
   "codemirror_mode": {
    "name": "ipython",
    "version": 3
   },
   "file_extension": ".py",
   "mimetype": "text/x-python",
   "name": "python",
   "nbconvert_exporter": "python",
   "pygments_lexer": "ipython3",
   "version": "3.7.3"
  }
 },
 "nbformat": 4,
 "nbformat_minor": 4
}

import numpy as np
import matplotlib.pyplot as plt

N=5000
data=np.random.random((N,))-0.5
location=np.cumsum(data)

plt.hist(data,bins=20)
plt.title("distribution")
plt.show()

# single move trajectory.
plt.title("Trajectory of Random Walk (-0.5~0.5) Distribution")
plt.ylabel('Location')
plt.plot(location)
plt.show()

# unit move uniform distrbutre between (-0.5~0.5) for many trail and its final location. 
Trial=10000
final=np.zeros(Trial)
for j in range(0,Trial):
    data=np.random.random((N,))-0.5
    final[j]=np.sum(data)
plt.hist(final,bins=50)
plt.title("Final Location of Random Walk (-0.5~0.5) Distribution")
plt.show()
# unit move uniform distrbutre between (-1 or 1) for many trail and its final location. 
n_data=np.zeros(N)
for i in range(0,N):
    i
    if data[i]>0:
        n_data[i]=1
    else:
        n_data[i]=-1
plt.hist(n_data,bins=2)
n_location=np.cumsum(n_data)
import matplotlib.pyplot as plt
plt.ylabel('n_Location')
plt.plot(n_location)
plt.title("Trajectory of Random Walk (-0.5 or 0.5) Distribution")
plt.show()

Trial=5000
N=5000
final=np.zeros(Trial)
for j in range(0,Trial):
    n_data=np.zeros(N)
    data=np.random.random((N,))-0.5
    for i in range(0,N):
        if data[i]>0:
            n_data[i]=1
        else:
            n_data[i]=-1
    final[j]=np.sum(n_data)    
plt.hist(final,bins=30)
plt.title("Final Location of Random Walk (-0.5 or 0.5) Distribution")
plt.show()
